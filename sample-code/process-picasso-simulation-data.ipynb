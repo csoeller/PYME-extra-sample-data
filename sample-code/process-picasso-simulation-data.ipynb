{
 "cells": [
  {
   "cell_type": "code",
   "execution_count": 1,
   "metadata": {},
   "outputs": [],
   "source": [
    "%run pymexDataStartup.py\n",
    "\n",
    "# things we need for this notebook\n",
    "from PYMEcs.IO.picasso import read_picasso_hdf, pymedf2csv, picasso_structure_mask_roi\n",
    "from PYME.IO.image import ImageStack\n",
    "from PYME.LMVis import pipeline\n",
    "import pandas as pd"
   ]
  },
  {
   "cell_type": "code",
   "execution_count": 2,
   "metadata": {},
   "outputs": [],
   "source": [
    "inputdir = '../data/external/picasso/picasso-simulation/'\n",
    "pymedf, mdh, struc = read_picasso_hdf(os.path.join(inputdir,'origami-simul3_locs.hdf5'))\n",
    "pymedf2csv(pymedf,inbdir('origami-simul3_locs.csv'))"
   ]
  },
  {
   "cell_type": "code",
   "execution_count": 3,
   "metadata": {},
   "outputs": [],
   "source": [
    "# currently we do this from the converted hdf but should be possible using csv!\n",
    "pl = pipeline.Pipeline(inbdir('origami-simul3_locs.hdf'))"
   ]
  },
  {
   "cell_type": "code",
   "execution_count": 4,
   "metadata": {},
   "outputs": [
    {
     "data": {
      "text/plain": [
       "[{'tablefilters.FilterTable': {'filters': {'A': [5, 20000],\n",
       "    'error_x': [0, 30],\n",
       "    'error_y': [0, 30],\n",
       "    'sig': [95, 200]},\n",
       "   'inputName': 'Localizations',\n",
       "   'outputName': 'filtered_localizations'}},\n",
       " {'localisations.DensityMapping': {'inputLocalizations': 'filtered_localizations',\n",
       "   'jitterVariable': 'error_x',\n",
       "   'outputImage': 'renderim',\n",
       "   'renderingModule': 'Gaussian'}}]"
      ]
     },
     "execution_count": 4,
     "metadata": {},
     "output_type": "execute_result"
    }
   ],
   "source": [
    "# here we check that we have generated the yaml file ina  string as we wanted it\n",
    "import yaml\n",
    "dct = yaml.safe_load(\"\"\"\n",
    "- tablefilters.FilterTable:\n",
    "    filters:\n",
    "      A: [5, 20000]\n",
    "      error_x: [0, 30]\n",
    "      error_y: [0, 30]\n",
    "      sig: [95, 200]\n",
    "    inputName: Localizations\n",
    "    outputName: filtered_localizations\n",
    "- localisations.DensityMapping:\n",
    "    inputLocalizations: filtered_localizations\n",
    "    jitterVariable: error_x\n",
    "    outputImage: renderim\n",
    "    renderingModule: Gaussian\n",
    "\"\"\")\n",
    "dct"
   ]
  },
  {
   "cell_type": "code",
   "execution_count": 5,
   "metadata": {},
   "outputs": [
    {
     "name": "stdout",
     "output_type": "stream",
     "text": [
      "Created colour filter with chans: []\n"
     ]
    }
   ],
   "source": [
    "useVersion1 = False\n",
    "if useVersion1:\n",
    "    # version 1: explicitly make the rendering module and insert into existing recipe\n",
    "    pl.recipe.update_from_yaml(\"\"\"\n",
    "- tablefilters.FilterTable:\n",
    "    filters:\n",
    "      A: [5, 20000]\n",
    "      error_x: [0, 30]\n",
    "      error_y: [0, 30]\n",
    "      sig: [95, 200]\n",
    "    inputName: Localizations\n",
    "    outputName: filtered_localizations\n",
    "    \"\"\")\n",
    "\n",
    "    from PYME.recipes import localisations\n",
    "    dm = localisations.DensityMapping(\n",
    "            inputLocalizations='filtered_localizations',\n",
    "            jitterVariable=\"error_x\",\n",
    "            outputImage=\"renderim\",\n",
    "            pixelSize=5.0,\n",
    "            renderingModule='Gaussian')\n",
    "    pl.recipe.add_module(dm)\n",
    "    pl.recipe.execute()\n",
    "else:\n",
    "    # version 2: all in one go from one yaml string\n",
    "    pl.recipe.update_from_yaml(\"\"\"\n",
    "- tablefilters.FilterTable:\n",
    "    filters:\n",
    "      A: [5, 20000]\n",
    "      error_x: [0, 30]\n",
    "      error_y: [0, 30]\n",
    "      sig: [95, 200]\n",
    "    inputName: Localizations\n",
    "    outputName: filtered_localizations\n",
    "- localisations.DensityMapping:\n",
    "    inputLocalizations: filtered_localizations\n",
    "    jitterVariable: error_x\n",
    "    outputImage: renderim\n",
    "    renderingModule: Gaussian\n",
    "    \"\"\")"
   ]
  },
  {
   "cell_type": "code",
   "execution_count": 6,
   "metadata": {},
   "outputs": [
    {
     "name": "stderr",
     "output_type": "stream",
     "text": [
      "/Users/csoe002/Documents/src/PYME-src/python-microscopy/PYME/IO/DataSources/ArrayDataSource.py:45: FutureWarning: Using a non-tuple sequence for multidimensional indexing is deprecated; use `arr[tuple(seq)]` instead of `arr[seq]`. In the future this will be interpreted as an array index, `arr[np.array(seq)]`, which will result either in an error or a different result.\n",
      "  r = self.data.__getitem__(keys)\n"
     ]
    }
   ],
   "source": [
    "image = pl.dataSources['renderim']\n",
    "image.Save(inbdir('origami-simul3.tif'))"
   ]
  },
  {
   "cell_type": "code",
   "execution_count": 7,
   "metadata": {},
   "outputs": [],
   "source": [
    "mask, sitesdf = picasso_structure_mask_roi(image,struc,roisize=20)\n",
    "sitesdf.to_csv(inbdir('origami-simul3_nsites.csv'))\n",
    "mask.Save(filename=inbdir('origami-simul3-structurelabelmaskroi.tif'))"
   ]
  },
  {
   "cell_type": "code",
   "execution_count": 8,
   "metadata": {},
   "outputs": [
    {
     "data": {
      "text/plain": [
       "<matplotlib.axes._subplots.AxesSubplot at 0x7fd361dfb590>"
      ]
     },
     "execution_count": 8,
     "metadata": {},
     "output_type": "execute_result"
    },
    {
     "data": {
      "image/png": "[encoded data removed]",
      "text/plain": [
       "<Figure size 432x288 with 1 Axes>"
      ]
     },
     "metadata": {
      "needs_background": "light"
     },
     "output_type": "display_data"
    }
   ],
   "source": [
    "plt.figure()\n",
    "sitesdf['NSites'].plot(kind='hist', title='number of sites',bins=np.arange(1,7)+0.5)"
   ]
  },
  {
   "cell_type": "code",
   "execution_count": 9,
   "metadata": {},
   "outputs": [
    {
     "name": "stdout",
     "output_type": "stream",
     "text": [
      "- tablefilters.FilterTable:\n",
      "    filters:\n",
      "      A:\n",
      "      - 5\n",
      "      - 20000\n",
      "      error_x:\n",
      "      - 0\n",
      "      - 30\n",
      "      error_y:\n",
      "      - 0\n",
      "      - 30\n",
      "      sig:\n",
      "      - 95\n",
      "      - 200\n",
      "    inputName: Localizations\n",
      "    outputName: filtered_localizations\n",
      "- localisations.DensityMapping:\n",
      "    inputLocalizations: filtered_localizations\n",
      "    jitterVariable: error_x\n",
      "    outputImage: renderim\n",
      "    renderingModule: Gaussian\n",
      "\n"
     ]
    }
   ],
   "source": [
    "print(pl.recipe.toYAML())"
   ]
  },
  {
   "cell_type": "code",
   "execution_count": null,
   "metadata": {},
   "outputs": [],
   "source": []
  }
 ],
 "metadata": {
  "kernelspec": {
   "display_name": "Python 2",
   "language": "python",
   "name": "python2"
  },
  "language_info": {
   "codemirror_mode": {
    "name": "ipython",
    "version": 2
   },
   "file_extension": ".py",
   "mimetype": "text/x-python",
   "name": "python",
   "nbconvert_exporter": "python",
   "pygments_lexer": "ipython2",
   "version": "2.7.17"
  }
 },
 "nbformat": 4,
 "nbformat_minor": 2
}
