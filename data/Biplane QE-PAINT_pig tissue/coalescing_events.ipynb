{
 "cells": [
  {
   "cell_type": "code",
   "execution_count": null,
   "metadata": {
    "scrolled": true
   },
   "outputs": [],
   "source": [
    "#Import necessary packages\n",
    "\n",
    "%matplotlib inline\n",
    "\n",
    "import matplotlib\n",
    "import numpy as np\n",
    "import matplotlib.pyplot as plt\n",
    "import pandas as pd\n",
    "\n",
    "matplotlib.rcParams['figure.figsize'] = (10.0, 8.0)\n",
    "from __future__ import print_function\n",
    "from PYME.recipes import modules\n",
    "from PYME.LMVis import pipeline\n",
    "from PYME.recipes import tracking,localisations,base;\n",
    "\n",
    "#data = pipeline.Pipeline(\"../data/Biplane QE-PAINT_pig tissue/pig_tissue_biplane_RyR_IP3R_ExchangePAINT.hdf\")\n",
    "## AC comment - The .. takes you back a directory which would already be data\n",
    "data = pipeline.Pipeline(\"../Biplane QE-PAINT_pig tissue/pig_tissue_biplane_RyR_IP3R_ExchangePAINT.hdf\")"
   ]
  },
  {
   "cell_type": "code",
   "execution_count": 2,
   "metadata": {},
   "outputs": [
    {
     "data": {
      "text/plain": [
       "<module 'PYME.LMVis.pipeline' from 'c:\\users\\work\\documents\\pyme_home\\python-microscopy\\PYME\\LMVis\\pipeline.pyc'>"
      ]
     },
     "execution_count": 2,
     "metadata": {},
     "output_type": "execute_result"
    }
   ],
   "source": [
    "pipeline"
   ]
  },
  {
   "cell_type": "code",
   "execution_count": 3,
   "metadata": {},
   "outputs": [
    {
     "name": "stdout",
     "output_type": "stream",
     "text": [
      "Current data source: filtered_localizations\n",
      "Available data sources: fiducialApplied, timedSpecies, corrected_fiducials, Fiducials, FitResults, filtered_localizations, _Localizations, Localizations, fiducialAdded, colour_mapped\n",
      "Number of events in data source timespecies is 465978\n"
     ]
    },
    {
     "name": "stderr",
     "output_type": "stream",
     "text": [
      "c:\\users\\work\\documents\\pyme_home\\python-microscopy\\PYME\\IO\\tabular.py:48: VisibleDeprecationWarning: mappingFilter is deprecated, use MappingFilter instead\n",
      "  warnings.warn(VisibleDeprecationWarning('%s is deprecated, use %s instead' % (name, cls.__name__)))\n",
      "c:\\users\\work\\documents\\pyme_home\\pyme-extra\\PYMEcs\\Analysis\\trackFiducials.py:152: RuntimeWarning: Mean of empty slice\n",
      "  mm = np.nanmean(meas, 0)\n"
     ]
    }
   ],
   "source": [
    "# load our saved recipe\n",
    "\n",
    "#data.recipe.update_from_yaml(\"../data/Biplane QE-PAINT_pig tissue/fiducial_driftcorrection recipe.yaml')\n",
    "## AC comment - The notebook is already in this folder so you only need to specify the yaml name.\n",
    "data.recipe.update_from_yaml(\"fiducial_driftcorrection recipe.yaml\")                             \n",
    "\n",
    "\n",
    "\n",
    "print(\"Current data source: %s\" % data.selectedDataSourceKey) # what is the currently selected data source\n",
    "print(\"Available data sources: %s\" % ', '.join(data.dataSources.keys())) # look at all the data sources we could select\n",
    "\n",
    "data.selectDataSource('timedSpecies')\n",
    "print(\"Number of events in data source timespecies is %d\" % data.x.size)"
   ]
  },
  {
   "cell_type": "code",
   "execution_count": 4,
   "metadata": {},
   "outputs": [],
   "source": [
    "tb = tracking.FindClumps(inputName='timedSpecies', outputName= 'with_clumps', timeWindow=5)\n",
    "data.recipe.add_module(tb)\n",
    "dm = localisations.MergeClumps(inputName='with_clumps', outputName= 'coalesced')\n",
    "data.recipe.add_module(dm)\n",
    "data.recipe.execute()"
   ]
  },
  {
   "cell_type": "code",
   "execution_count": 5,
   "metadata": {},
   "outputs": [
    {
     "name": "stdout",
     "output_type": "stream",
     "text": [
      "Current data source: coalesced\n"
     ]
    },
    {
     "data": {
      "text/plain": [
       "<matplotlib.collections.PathCollection at 0x19a811c8>"
      ]
     },
     "execution_count": 5,
     "metadata": {},
     "output_type": "execute_result"
    },
    {
     "data": {
      "image/png": "[encoded data removed]",
      "text/plain": [
       "<matplotlib.figure.Figure at 0x10e8a1c8>"
      ]
     },
     "metadata": {
      "needs_background": "light"
     },
     "output_type": "display_data"
    }
   ],
   "source": [
    "data.selectDataSource('coalesced')\n",
    "print(\"Current data source: %s\" % data.selectedDataSourceKey) # what is the currently selected data source\n",
    "plt.subplot(aspect='equal') # we are trying to get the plot aspect ratio to be correct\n",
    "plt.scatter(data.x,data.y,s=5)"
   ]
  },
  {
   "cell_type": "markdown",
   "metadata": {},
   "source": [
    "## Render image as part of pipeline\n",
    "\n",
    "We cimages as part of applying a recipe to the pipeline. The examples below exploits that.\n",
    "\n",
    "The syntax to specify such a module directly could be tricky. So therefore it is much better to edit the rendering module in VisGUI or a similar GUI app, and then save as needed.\n",
    "\n",
    "This is an example for a Gaussian rendering with 10 nm pixel size:\n",
    "\n",
    "```\n",
    "- localisations.DensityMapping:\n",
    "    inputLocalizations: cytosolC\n",
    "    jitterVariable: error_x\n",
    "    outputImage: renderCytosolC\n",
    "    pixelSize: 10.0\n",
    "    renderingModule: Gaussian\n",
    "```"
   ]
  },
  {
   "cell_type": "code",
   "execution_count": null,
   "metadata": {
    "scrolled": true
   },
   "outputs": [],
   "source": [
    "imdata = data.dataSources['coalesced'].data[:,:,0,0].squeeze()"
   ]
  },
  {
   "cell_type": "code",
   "execution_count": null,
   "metadata": {},
   "outputs": [],
   "source": [
    "plt.figure()\n",
    "plt.imshow(imdata,cmap='hot',vmin=0,vmax=0.30)"
   ]
  },
  {
   "cell_type": "code",
   "execution_count": null,
   "metadata": {},
   "outputs": [],
   "source": []
  }
 ],
 "metadata": {
  "kernelspec": {
   "display_name": "PyME_default_plain",
   "language": "python",
   "name": "pyme_default_plain"
  },
  "language_info": {
   "codemirror_mode": {
    "name": "ipython",
    "version": 2
   },
   "file_extension": ".py",
   "mimetype": "text/x-python",
   "name": "python",
   "nbconvert_exporter": "python",
   "pygments_lexer": "ipython2",
   "version": "2.7.17"
  }
 },
 "nbformat": 4,
 "nbformat_minor": 2
}
